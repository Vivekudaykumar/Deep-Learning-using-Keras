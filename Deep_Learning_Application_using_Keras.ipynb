{
  "nbformat": 4,
  "nbformat_minor": 0,
  "metadata": {
    "colab": {
      "name": "Deep Learning Application using Keras",
      "provenance": [],
      "authorship_tag": "ABX9TyOrDqCRQkRcImCdGUVYmjv1",
      "include_colab_link": true
    },
    "kernelspec": {
      "name": "python3",
      "display_name": "Python 3"
    }
  },
  "cells": [
    {
      "cell_type": "markdown",
      "metadata": {
        "id": "view-in-github",
        "colab_type": "text"
      },
      "source": [
        "<a href=\"https://colab.research.google.com/github/Vivekudaykumar/Deep-Learning-using-Keras/blob/master/Deep_Learning_Application_using_Keras.ipynb\" target=\"_parent\"><img src=\"https://colab.research.google.com/assets/colab-badge.svg\" alt=\"Open In Colab\"/></a>"
      ]
    },
    {
      "cell_type": "markdown",
      "metadata": {
        "id": "yRCgV9qlKtCL",
        "colab_type": "text"
      },
      "source": [
        ""
      ]
    },
    {
      "cell_type": "code",
      "metadata": {
        "id": "3pkRSr6MOwRt",
        "colab_type": "code",
        "colab": {
          "base_uri": "https://localhost:8080/",
          "height": 34
        },
        "outputId": "f9947396-9dd4-43c2-814c-a8744b2fef2a"
      },
      "source": [
        "import pandas as pd\n",
        "import numpy as np\n",
        "import keras\n",
        "import matplotlib.pyplot as plt\n"
      ],
      "execution_count": 4,
      "outputs": [
        {
          "output_type": "stream",
          "text": [
            "Using TensorFlow backend.\n"
          ],
          "name": "stderr"
        }
      ]
    },
    {
      "cell_type": "code",
      "metadata": {
        "id": "BJaOe4YNG63i",
        "colab_type": "code",
        "colab": {}
      },
      "source": [
        "path=\"/content/iowa set.txt\"\n",
        "df=pd.read_csv(path)"
      ],
      "execution_count": 5,
      "outputs": []
    },
    {
      "cell_type": "code",
      "metadata": {
        "id": "CVAL3ovVMKv1",
        "colab_type": "code",
        "colab": {
          "base_uri": "https://localhost:8080/",
          "height": 204
        },
        "outputId": "d47c9311-1eb5-4c4f-e396-21ffcf35d2a5"
      },
      "source": [
        "df.head()"
      ],
      "execution_count": 6,
      "outputs": [
        {
          "output_type": "execute_result",
          "data": {
            "text/html": [
              "<div>\n",
              "<style scoped>\n",
              "    .dataframe tbody tr th:only-of-type {\n",
              "        vertical-align: middle;\n",
              "    }\n",
              "\n",
              "    .dataframe tbody tr th {\n",
              "        vertical-align: top;\n",
              "    }\n",
              "\n",
              "    .dataframe thead th {\n",
              "        text-align: right;\n",
              "    }\n",
              "</style>\n",
              "<table border=\"1\" class=\"dataframe\">\n",
              "  <thead>\n",
              "    <tr style=\"text-align: right;\">\n",
              "      <th></th>\n",
              "      <th>SquareFeet</th>\n",
              "      <th>SalePrice</th>\n",
              "    </tr>\n",
              "  </thead>\n",
              "  <tbody>\n",
              "    <tr>\n",
              "      <th>0</th>\n",
              "      <td>1710</td>\n",
              "      <td>208500</td>\n",
              "    </tr>\n",
              "    <tr>\n",
              "      <th>1</th>\n",
              "      <td>1262</td>\n",
              "      <td>181500</td>\n",
              "    </tr>\n",
              "    <tr>\n",
              "      <th>2</th>\n",
              "      <td>1786</td>\n",
              "      <td>223500</td>\n",
              "    </tr>\n",
              "    <tr>\n",
              "      <th>3</th>\n",
              "      <td>1717</td>\n",
              "      <td>140000</td>\n",
              "    </tr>\n",
              "    <tr>\n",
              "      <th>4</th>\n",
              "      <td>2198</td>\n",
              "      <td>250000</td>\n",
              "    </tr>\n",
              "  </tbody>\n",
              "</table>\n",
              "</div>"
            ],
            "text/plain": [
              "   SquareFeet  SalePrice\n",
              "0        1710     208500\n",
              "1        1262     181500\n",
              "2        1786     223500\n",
              "3        1717     140000\n",
              "4        2198     250000"
            ]
          },
          "metadata": {
            "tags": []
          },
          "execution_count": 6
        }
      ]
    },
    {
      "cell_type": "code",
      "metadata": {
        "id": "uLnkw8ZsMMNY",
        "colab_type": "code",
        "colab": {}
      },
      "source": [
        "squareFeet=df[[\"SquareFeet\"]].values\n",
        "salePrice=df[[\"SalePrice\"]].values"
      ],
      "execution_count": 9,
      "outputs": []
    },
    {
      "cell_type": "code",
      "metadata": {
        "id": "1kq2pSYcMlK5",
        "colab_type": "code",
        "colab": {
          "base_uri": "https://localhost:8080/",
          "height": 1000
        },
        "outputId": "25ed2a3f-d8c9-43f8-d7f8-69ab7da564c5"
      },
      "source": [
        "model = keras.Sequential()\n",
        "model.add(keras.layers.Dense(1, input_shape=(1,)))\n",
        "model.compile(keras.optimizers.Adam(lr=1), 'mean_squared_error')\n",
        "\n",
        "model.fit(squareFeet,salePrice, epochs=30, batch_size=10)"
      ],
      "execution_count": 10,
      "outputs": [
        {
          "output_type": "stream",
          "text": [
            "Epoch 1/30\n",
            "1460/1460 [==============================] - 0s 230us/step - loss: 15109830784.8767\n",
            "Epoch 2/30\n",
            "1460/1460 [==============================] - 0s 81us/step - loss: 3326734220.9315\n",
            "Epoch 3/30\n",
            "1460/1460 [==============================] - 0s 80us/step - loss: 3189064928.6575\n",
            "Epoch 4/30\n",
            "1460/1460 [==============================] - 0s 79us/step - loss: 3186757001.4247\n",
            "Epoch 5/30\n",
            "1460/1460 [==============================] - 0s 84us/step - loss: 3193637928.5479\n",
            "Epoch 6/30\n",
            "1460/1460 [==============================] - 0s 85us/step - loss: 3191323367.8904\n",
            "Epoch 7/30\n",
            "1460/1460 [==============================] - 0s 85us/step - loss: 3186879494.1370\n",
            "Epoch 8/30\n",
            "1460/1460 [==============================] - 0s 78us/step - loss: 3192278052.8219\n",
            "Epoch 9/30\n",
            "1460/1460 [==============================] - 0s 77us/step - loss: 3203813758.4658\n",
            "Epoch 10/30\n",
            "1460/1460 [==============================] - 0s 77us/step - loss: 3197318740.8219\n",
            "Epoch 11/30\n",
            "1460/1460 [==============================] - 0s 81us/step - loss: 3187010309.6986\n",
            "Epoch 12/30\n",
            "1460/1460 [==============================] - 0s 78us/step - loss: 3188520585.2055\n",
            "Epoch 13/30\n",
            "1460/1460 [==============================] - 0s 82us/step - loss: 3202202973.8082\n",
            "Epoch 14/30\n",
            "1460/1460 [==============================] - 0s 81us/step - loss: 3198369433.6438\n",
            "Epoch 15/30\n",
            "1460/1460 [==============================] - 0s 93us/step - loss: 3187948318.0274\n",
            "Epoch 16/30\n",
            "1460/1460 [==============================] - 0s 89us/step - loss: 3187973932.4932\n",
            "Epoch 17/30\n",
            "1460/1460 [==============================] - 0s 89us/step - loss: 3174410292.7123\n",
            "Epoch 18/30\n",
            "1460/1460 [==============================] - 0s 96us/step - loss: 3192671832.7671\n",
            "Epoch 19/30\n",
            "1460/1460 [==============================] - 0s 90us/step - loss: 3198137874.6301\n",
            "Epoch 20/30\n",
            "1460/1460 [==============================] - 0s 83us/step - loss: 3208904091.1781\n",
            "Epoch 21/30\n",
            "1460/1460 [==============================] - 0s 78us/step - loss: 3190833475.7260\n",
            "Epoch 22/30\n",
            "1460/1460 [==============================] - 0s 85us/step - loss: 3221268637.8082\n",
            "Epoch 23/30\n",
            "1460/1460 [==============================] - 0s 92us/step - loss: 3189528822.5753\n",
            "Epoch 24/30\n",
            "1460/1460 [==============================] - 0s 88us/step - loss: 3211226896.8767\n",
            "Epoch 25/30\n",
            "1460/1460 [==============================] - 0s 89us/step - loss: 3246454058.5205\n",
            "Epoch 26/30\n",
            "1460/1460 [==============================] - 0s 88us/step - loss: 3190978395.7260\n",
            "Epoch 27/30\n",
            "1460/1460 [==============================] - 0s 91us/step - loss: 3208565765.0411\n",
            "Epoch 28/30\n",
            "1460/1460 [==============================] - 0s 81us/step - loss: 3201763161.8630\n",
            "Epoch 29/30\n",
            "1460/1460 [==============================] - 0s 79us/step - loss: 3198056629.5890\n",
            "Epoch 30/30\n",
            "1460/1460 [==============================] - 0s 79us/step - loss: 3199564418.6301\n"
          ],
          "name": "stdout"
        },
        {
          "output_type": "execute_result",
          "data": {
            "text/plain": [
              "<keras.callbacks.callbacks.History at 0x7f99a475c7b8>"
            ]
          },
          "metadata": {
            "tags": []
          },
          "execution_count": 10
        }
      ]
    },
    {
      "cell_type": "code",
      "metadata": {
        "id": "OjJveCjdNtiK",
        "colab_type": "code",
        "colab": {
          "base_uri": "https://localhost:8080/",
          "height": 312
        },
        "outputId": "886b680c-fdfd-42dc-c2f4-0392ce83c8be"
      },
      "source": [
        "df.plot(kind='scatter',\n",
        "       x='SquareFeet',\n",
        "       y='SalePrice', title='Housing Prices and Square Footage of Iowa Homes')\n",
        "\n"
      ],
      "execution_count": 11,
      "outputs": [
        {
          "output_type": "execute_result",
          "data": {
            "text/plain": [
              "<matplotlib.axes._subplots.AxesSubplot at 0x7f99a3941358>"
            ]
          },
          "metadata": {
            "tags": []
          },
          "execution_count": 11
        },
        {
          "output_type": "display_data",
          "data": {
            "image/png": "[encoded data removed]",
            "text/plain": [
              "<Figure size 432x288 with 1 Axes>"
            ]
          },
          "metadata": {
            "tags": [],
            "needs_background": "light"
          }
        }
      ]
    },
    {
      "cell_type": "code",
      "metadata": {
        "id": "gmMgDET-OtwT",
        "colab_type": "code",
        "colab": {
          "base_uri": "https://localhost:8080/",
          "height": 312
        },
        "outputId": "4bab0fdf-6803-4f48-b80f-df0f25573398"
      },
      "source": [
        "df.plot(kind='scatter',\n",
        "       x='SquareFeet',\n",
        "       y='SalePrice', title='Housing Prices and Square Footage of Iowa Homes')\n",
        "\n",
        "\n",
        "y_pred = model.predict(squareFeet)\n",
        "plt.plot(squareFeet, y_pred, color='red')"
      ],
      "execution_count": 14,
      "outputs": [
        {
          "output_type": "execute_result",
          "data": {
            "text/plain": [
              "[<matplotlib.lines.Line2D at 0x7f99a0b74518>]"
            ]
          },
          "metadata": {
            "tags": []
          },
          "execution_count": 14
        },
        {
          "output_type": "display_data",
          "data": {
            "image/png": "[encoded data removed]",
            "text/plain": [
              "<Figure size 432x288 with 1 Axes>"
            ]
          },
          "metadata": {
            "tags": [],
            "needs_background": "light"
          }
        }
      ]
    },
    {
      "cell_type": "code",
      "metadata": {
        "id": "YnL6rvk0OzR7",
        "colab_type": "code",
        "colab": {
          "base_uri": "https://localhost:8080/",
          "height": 34
        },
        "outputId": "2e424e93-a83c-45e2-8b22-c80cb36cc6d0"
      },
      "source": [
        "newSF = 2000\n",
        "print(model.predict([newSF]))"
      ],
      "execution_count": 15,
      "outputs": [
        {
          "output_type": "stream",
          "text": [
            "[[243550.22]]\n"
          ],
          "name": "stdout"
        }
      ]
    },
    {
      "cell_type": "code",
      "metadata": {
        "id": "sQYcHiCpPJqq",
        "colab_type": "code",
        "colab": {}
      },
      "source": [
        ""
      ],
      "execution_count": null,
      "outputs": []
    }
  ]
}